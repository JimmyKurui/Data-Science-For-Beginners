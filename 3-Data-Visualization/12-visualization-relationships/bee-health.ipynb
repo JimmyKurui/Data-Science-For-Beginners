{
 "cells": [
  {
   "cell_type": "markdown",
   "id": "1e95771b",
   "metadata": {
    "papermill": {
     "duration": 0.002313,
     "end_time": "2023-08-15T10:21:38.377555",
     "exception": false,
     "start_time": "2023-08-15T10:21:38.375242",
     "status": "completed"
    },
    "tags": []
   },
   "source": [
    "# Visualizing Bee Health  🍯 🐝\n",
    "\n",
    "Quick Recap: This dataset of about 600 items displays honey production in many U.S. states. So, for example, you can look at the number of colonies, yield per colony, total production, stocks, price per pound, and value of the honey produced in a given state from 1998-2012, with one row per year for each state. \n",
    "This year span covers the devastating 'CCD' or 'Colony Collapse Disorder' first seen in 2006 (http://npic.orst.edu/envir/ccd.html), so it is a poignant dataset to study. 🐝"
   ]
  },
  {
   "attachments": {
    "f353d722-e825-458b-81f5-635ce5f7e9d8.png": {
     "image/png": "[encoded data removed]"
    }
   },
   "cell_type": "markdown",
   "id": "e9d873ff",
   "metadata": {
    "papermill": {
     "duration": 0.001546,
     "end_time": "2023-08-15T10:21:38.381042",
     "exception": false,
     "start_time": "2023-08-15T10:21:38.379496",
     "status": "completed"
    },
    "tags": []
   },
   "source": [
    "![Schema.png](attachment:f353d722-e825-458b-81f5-635ce5f7e9d8.png)\n",
    "\n",
    "1. Honey producing colonies are the maximum number of colonies from which honey was harvested during the year. It is possible to harvest honey from\n",
    "colonies which did not survive the entire year.\n",
    "2. Stocks held by producers.\n",
    "3. Average price per pound based on expanded sales.\n",
    "4. Value of production is equal to production multiplied by average price per pound.\n",
    "5. Includes data for States not published in this table.\n",
    "6. Due to rounding, total colonies multiplied by total yield may not exactly equal production.\n",
    "7. United States value of production will not equal summation of States\n",
    "\n",
    "> Source @United States Department of Agriculture (USDA)"
   ]
  },
  {
   "cell_type": "code",
   "execution_count": 1,
   "id": "740f64ef",
   "metadata": {
    "execution": {
     "iopub.execute_input": "2023-08-15T10:21:38.386142Z",
     "iopub.status.busy": "2023-08-15T10:21:38.385655Z",
     "iopub.status.idle": "2023-08-15T10:21:39.700438Z",
     "shell.execute_reply": "2023-08-15T10:21:39.699007Z"
    },
    "papermill": {
     "duration": 1.32036,
     "end_time": "2023-08-15T10:21:39.703047",
     "exception": false,
     "start_time": "2023-08-15T10:21:38.382687",
     "status": "completed"
    },
    "tags": []
   },
   "outputs": [
    {
     "name": "stderr",
     "output_type": "stream",
     "text": [
      "/opt/conda/lib/python3.10/site-packages/scipy/__init__.py:146: UserWarning: A NumPy version >=1.16.5 and <1.23.0 is required for this version of SciPy (detected version 1.23.5\n",
      "  warnings.warn(f\"A NumPy version >={np_minversion} and <{np_maxversion}\"\n"
     ]
    },
    {
     "data": {
      "text/html": [
       "<div>\n",
       "<style scoped>\n",
       "    .dataframe tbody tr th:only-of-type {\n",
       "        vertical-align: middle;\n",
       "    }\n",
       "\n",
       "    .dataframe tbody tr th {\n",
       "        vertical-align: top;\n",
       "    }\n",
       "\n",
       "    .dataframe thead th {\n",
       "        text-align: right;\n",
       "    }\n",
       "</style>\n",
       "<table border=\"1\" class=\"dataframe\">\n",
       "  <thead>\n",
       "    <tr style=\"text-align: right;\">\n",
       "      <th></th>\n",
       "      <th>state</th>\n",
       "      <th>numcol</th>\n",
       "      <th>yieldpercol</th>\n",
       "      <th>totalprod</th>\n",
       "      <th>stocks</th>\n",
       "      <th>priceperlb</th>\n",
       "      <th>prodvalue</th>\n",
       "      <th>year</th>\n",
       "    </tr>\n",
       "  </thead>\n",
       "  <tbody>\n",
       "    <tr>\n",
       "      <th>0</th>\n",
       "      <td>AL</td>\n",
       "      <td>16000.0</td>\n",
       "      <td>71</td>\n",
       "      <td>1136000.0</td>\n",
       "      <td>159000.0</td>\n",
       "      <td>0.72</td>\n",
       "      <td>818000.0</td>\n",
       "      <td>1998</td>\n",
       "    </tr>\n",
       "    <tr>\n",
       "      <th>1</th>\n",
       "      <td>AZ</td>\n",
       "      <td>55000.0</td>\n",
       "      <td>60</td>\n",
       "      <td>3300000.0</td>\n",
       "      <td>1485000.0</td>\n",
       "      <td>0.64</td>\n",
       "      <td>2112000.0</td>\n",
       "      <td>1998</td>\n",
       "    </tr>\n",
       "    <tr>\n",
       "      <th>2</th>\n",
       "      <td>AR</td>\n",
       "      <td>53000.0</td>\n",
       "      <td>65</td>\n",
       "      <td>3445000.0</td>\n",
       "      <td>1688000.0</td>\n",
       "      <td>0.59</td>\n",
       "      <td>2033000.0</td>\n",
       "      <td>1998</td>\n",
       "    </tr>\n",
       "    <tr>\n",
       "      <th>3</th>\n",
       "      <td>CA</td>\n",
       "      <td>450000.0</td>\n",
       "      <td>83</td>\n",
       "      <td>37350000.0</td>\n",
       "      <td>12326000.0</td>\n",
       "      <td>0.62</td>\n",
       "      <td>23157000.0</td>\n",
       "      <td>1998</td>\n",
       "    </tr>\n",
       "    <tr>\n",
       "      <th>4</th>\n",
       "      <td>CO</td>\n",
       "      <td>27000.0</td>\n",
       "      <td>72</td>\n",
       "      <td>1944000.0</td>\n",
       "      <td>1594000.0</td>\n",
       "      <td>0.70</td>\n",
       "      <td>1361000.0</td>\n",
       "      <td>1998</td>\n",
       "    </tr>\n",
       "  </tbody>\n",
       "</table>\n",
       "</div>"
      ],
      "text/plain": [
       "  state    numcol  yieldpercol   totalprod      stocks  priceperlb  \\\n",
       "0    AL   16000.0           71   1136000.0    159000.0        0.72   \n",
       "1    AZ   55000.0           60   3300000.0   1485000.0        0.64   \n",
       "2    AR   53000.0           65   3445000.0   1688000.0        0.59   \n",
       "3    CA  450000.0           83  37350000.0  12326000.0        0.62   \n",
       "4    CO   27000.0           72   1944000.0   1594000.0        0.70   \n",
       "\n",
       "    prodvalue  year  \n",
       "0    818000.0  1998  \n",
       "1   2112000.0  1998  \n",
       "2   2033000.0  1998  \n",
       "3  23157000.0  1998  \n",
       "4   1361000.0  1998  "
      ]
     },
     "execution_count": 1,
     "metadata": {},
     "output_type": "execute_result"
    }
   ],
   "source": [
    "import pandas as pd\n",
    "import matplotlib.pyplot as plt\n",
    "import seaborn as sns\n",
    "\n",
    "honey = pd.read_csv('/kaggle/input/honey-production-usa-1998-2012/honey.csv')\n",
    "honey.head()"
   ]
  },
  {
   "cell_type": "code",
   "execution_count": 2,
   "id": "c7585757",
   "metadata": {
    "execution": {
     "iopub.execute_input": "2023-08-15T10:21:39.708946Z",
     "iopub.status.busy": "2023-08-15T10:21:39.708566Z",
     "iopub.status.idle": "2023-08-15T10:21:39.951502Z",
     "shell.execute_reply": "2023-08-15T10:21:39.950481Z"
    },
    "papermill": {
     "duration": 0.248064,
     "end_time": "2023-08-15T10:21:39.953420",
     "exception": false,
     "start_time": "2023-08-15T10:21:39.705356",
     "status": "completed"
    },
    "tags": []
   },
   "outputs": [
    {
     "name": "stderr",
     "output_type": "stream",
     "text": [
      "/opt/conda/lib/python3.10/site-packages/seaborn/axisgrid.py:118: UserWarning: The figure layout has changed to tight\n",
      "  self._figure.tight_layout(*args, **kwargs)\n"
     ]
    },
    {
     "data": {
      "text/plain": [
       "<seaborn.axisgrid.FacetGrid at 0x784ef5616500>"
      ]
     },
     "execution_count": 2,
     "metadata": {},
     "output_type": "execute_result"
    },
    {
     "data": {
      "image/png": "[encoded data removed]",
      "text/plain": [
       "<Figure size 500x500 with 1 Axes>"
      ]
     },
     "metadata": {},
     "output_type": "display_data"
    }
   ],
   "source": [
    "# Number of columns\n",
    "sns.relplot()"
   ]
  }
 ],
 "metadata": {
  "kernelspec": {
   "display_name": "Python 3",
   "language": "python",
   "name": "python3"
  },
  "language_info": {
   "codemirror_mode": {
    "name": "ipython",
    "version": 3
   },
   "file_extension": ".py",
   "mimetype": "text/x-python",
   "name": "python",
   "nbconvert_exporter": "python",
   "pygments_lexer": "ipython3",
   "version": "3.10.12"
  },
  "papermill": {
   "default_parameters": {},
   "duration": 10.68592,
   "end_time": "2023-08-15T10:21:40.877774",
   "environment_variables": {},
   "exception": null,
   "input_path": "__notebook__.ipynb",
   "output_path": "__notebook__.ipynb",
   "parameters": {},
   "start_time": "2023-08-15T10:21:30.191854",
   "version": "2.4.0"
  }
 },
 "nbformat": 4,
 "nbformat_minor": 5
}
